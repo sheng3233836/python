{
 "cells": [
  {
   "cell_type": "code",
   "execution_count": 687,
   "metadata": {
    "collapsed": true
   },
   "outputs": [],
   "source": [
    "import cv2\n",
    "import os,sys,random\n",
    "import numpy as np\n",
    "import gzip\n",
    "import time,tqdm\n",
    "import matplotlib.pyplot as plt"
   ]
  },
  {
   "cell_type": "code",
   "execution_count": 681,
   "metadata": {},
   "outputs": [
    {
     "data": {
      "text/plain": [
       "(10000, 30, 30)"
      ]
     },
     "execution_count": 681,
     "metadata": {},
     "output_type": "execute_result"
    }
   ],
   "source": [
    "def show_img(res_img):\n",
    "    plt.figure(figsize=(1,1))\n",
    "    plt.imshow(res_img, cmap=plt.get_cmap('gray'))\n",
    "    plt.axis('off')\n",
    "    plt.show()\n",
    "    \n",
    "    \n",
    "def read_img(path):\n",
    "    img = cv2.imread(path,0) #0代表cv2.IMREAD_RRATSCALE,表示读入灰度图 1代表cv2.IMREAD_COLOR,表示读入彩色图像\n",
    "    res_img =cv2.resize(img,(30,30),interpolation=cv2.INTER_CUBIC)\n",
    "    return res_img\n",
    "\n",
    "# 从文件夹里读出文件列表，然后再读取每个png的图片\n",
    "def read_folder_img(folder_path):\n",
    "    pathDir = os.listdir(folder_path)\n",
    "    random.shuffle(pathDir)\n",
    "    imgs = np.zeros((len(pathDir),30,30),dtype=np.float)\n",
    "    labels = []\n",
    "    for i in range(len(pathDir)) :\n",
    "        s = pathDir[i].split(\".\")\n",
    "        if s[len(s)-1] == \"png\":\n",
    "            labels.append(pathDir[i][0])\n",
    "            imgs[i] = read_img(files_path+\"/\"+pathDir[i])\n",
    "    return imgs,labels\n",
    "\n",
    "\n",
    "folder_path = \"captcha-small\"\n",
    "imgs,labels = read_folder_img(folder_path)\n",
    "imgs.shape"
   ]
  },
  {
   "cell_type": "code",
   "execution_count": 683,
   "metadata": {
    "scrolled": true
   },
   "outputs": [
    {
     "name": "stdout",
     "output_type": "stream",
     "text": [
      "sample image:\n"
     ]
    },
    {
     "data": {
      "image/png": "[encoded data removed]",
      "text/plain": [
       "<matplotlib.figure.Figure at 0x110edeb38>"
      ]
     },
     "metadata": {},
     "output_type": "display_data"
    },
    {
     "name": "stdout",
     "output_type": "stream",
     "text": [
      "sample label: ['C', 'A', 'L', 'B', 'Y', 'C', 'J', 'K', 'I', 'N']\n",
      "\n",
      "training size: 10000\n"
     ]
    }
   ],
   "source": [
    "print('sample image:')\n",
    "for i in range(10):\n",
    "    plt.subplot(1,10,i+1)\n",
    "    plt.imshow(imgs[i], cmap='Greys_r')\n",
    "    plt.axis('off')\n",
    "plt.show()\n",
    "print('sample label: %s' % labels[0:10])\n",
    "print('')\n",
    "print('training size: %s' % len(imgs))"
   ]
  },
  {
   "cell_type": "code",
   "execution_count": 686,
   "metadata": {},
   "outputs": [
    {
     "data": {
      "text/plain": [
       "(30, 30)"
      ]
     },
     "execution_count": 686,
     "metadata": {},
     "output_type": "execute_result"
    }
   ],
   "source": [
    "def sigmoid(z):\n",
    "    return 1 / (1 + np.exp(-z))\n",
    "\n",
    "\n",
    "def logistic_regression_cost_function(theta,X,y):\n",
    "    m = len(y)\n",
    "    sigmo = sigmoid(X * theta)\n",
    "    J = 1/m * (-y.T * np.log(sigmo) - (1 - y.T) * np.log(1-sigmo))\n",
    "    grad = (X.T * (sigmo - y)) / m\n",
    "    return J,grad\n",
    "\n",
    "\n",
    "def gradient_descent(X, y, theta, alpha, num_iters,limit_J):\n",
    "    batch_size = 20\n",
    "    m = np.alen(y)\n",
    "    J_history = np.zeros((num_iters, 1), dtype=float)\n",
    "    for i in range(num_iters):\n",
    "        batch_start = 0    \n",
    "        while(batch_start + batch_size < X.shape[0]):\n",
    "            batch_X = X[batch_start:batch_start+batch_size,:]\n",
    "            batch_y = y[batch_start:batch_start+batch_size,:] \n",
    "            J,grad = logistic_regression_cost_function(theta,batch_X,batch_y)\n",
    "            J_history[i] = J\n",
    "            theta = theta - alpha * grad\n",
    "            batch_start += batch_size\n",
    "#         if i != 0 and J_history[i] < limit_J:\n",
    "#             return theta,J_history,i\n",
    "    return theta,J_history,num_iters\n",
    "\n",
    "   \n",
    "def feature_normalize(X):\n",
    "    rows = X.shape[1]\n",
    "    for r in range(rows):\n",
    "        xr = X[:, r]\n",
    "        X[:, r] = (xr - np.mean(xr)) / np.std(xr)\n",
    "    return X  \n",
    "\n",
    "imgs[1].shape"
   ]
  },
  {
   "cell_type": "code",
   "execution_count": 680,
   "metadata": {},
   "outputs": [
    {
     "name": "stdout",
     "output_type": "stream",
     "text": [
      "(10000, 900)\n",
      "(10000, 1)\n"
     ]
    }
   ],
   "source": [
    "alphabet_labels = \"ABCDEFGHIJKLMNOPQRSTUVWXYZ\"\n",
    "orgin_pixel_sum = imgs.shape[1]*imgs.shape[2]\n",
    "X = np.mat(np.empty((len(imgs),orgin_pixel_sum*1),dtype=np.float))\n",
    "y = np.mat(np.empty((len(labels),1),dtype=np.float))\n",
    "# 把imgs打平，并做简单的升维（做一次相邻相乘）\n",
    "for i in range(len(imgs)):\n",
    "    imgs_dump = np.reshape(imgs[i],orgin_pixel_sum)\n",
    "    imgs_dump_copy = imgs_dump\n",
    "#     for j in range(len(imgs_dump_copy)):\n",
    "#         imgs_dump = np.append(imgs_dump,imgs_dump_copy[j] * imgs_dump_copy[j])\n",
    "#         imgs_dump = np.append(imgs_dump,imgs_dump_copy[0] * imgs_dump_copy[j])\n",
    "#         imgs_dump = np.append(imgs_dump,imgs_dump_copy[1] * imgs_dump_copy[j])\n",
    "#         imgs_dump = np.append(imgs_dump,imgs_dump_copy[2] * imgs_dump_copy[j])\n",
    "#         imgs_dump = np.append(imgs_dump,imgs_dump_copy[3] * imgs_dump_copy[j])\n",
    "#         imgs_dump = np.append(imgs_dump,imgs_dump_copy[4] * imgs_dump_copy[j])\n",
    "#         imgs_dump = np.append(imgs_dump,imgs_dump_copy[5] * imgs_dump_copy[j])\n",
    "#         imgs_dump = np.append(imgs_dump,imgs_dump_copy[6] * imgs_dump_copy[j])\n",
    "#         imgs_dump = np.append(imgs_dump,imgs_dump_copy[7] * imgs_dump_copy[j])\n",
    "#         imgs_dump = np.append(imgs_dump,imgs_dump_copy[8] * imgs_dump_copy[j])\n",
    "#         imgs_dump = np.append(imgs_dump,imgs_dump_copy[9] * imgs_dump_copy[j])\n",
    "    X[i] = np.reshape(imgs_dump,(1,imgs_dump.shape[0]))\n",
    "    y[i] = alphabet_labels.index(labels[i]) \n",
    "print(X.shape)\n",
    "print(y.shape)"
   ]
  },
  {
   "cell_type": "code",
   "execution_count": 678,
   "metadata": {},
   "outputs": [
    {
     "data": {
      "text/plain": [
       "(8000, 901)"
      ]
     },
     "execution_count": 678,
     "metadata": {},
     "output_type": "execute_result"
    }
   ],
   "source": [
    "m = X.shape[0]\n",
    "val_X = X[m-2000:m,:]\n",
    "train_X = X[0:m-2000,:]\n",
    "val_y = y[m-2000:m,:]\n",
    "train_y = y[0:m-2000,:]\n",
    "# feature_normalize\n",
    "val_X = feature_normalize (val_X)\n",
    "train_X = feature_normalize (train_X)\n",
    "\n",
    "val_X = np.c_[np.ones((len(val_X), 1), dtype=np.int), val_X]\n",
    "train_X = np.c_[np.ones((len(train_X), 1), dtype=np.int), train_X] \n",
    "train_X.shape"
   ]
  },
  {
   "cell_type": "code",
   "execution_count": 679,
   "metadata": {},
   "outputs": [
    {
     "name": "stdout",
     "output_type": "stream",
     "text": [
      "training : A\n"
     ]
    },
    {
     "ename": "ValueError",
     "evalue": "could not broadcast input array from shape (26,1) into shape (1)",
     "traceback": [
      "\u001b[0;31m---------------------------------------------------------------------------\u001b[0m",
      "\u001b[0;31mValueError\u001b[0m                                Traceback (most recent call last)",
      "\u001b[0;32m<ipython-input-679-71b1eb9d99e4>\u001b[0m in \u001b[0;36m<module>\u001b[0;34m()\u001b[0m\n\u001b[1;32m      7\u001b[0m     \u001b[0mtheta\u001b[0m \u001b[0;34m=\u001b[0m \u001b[0mnp\u001b[0m\u001b[0;34m.\u001b[0m\u001b[0mmat\u001b[0m\u001b[0;34m(\u001b[0m\u001b[0mnp\u001b[0m\u001b[0;34m.\u001b[0m\u001b[0mempty\u001b[0m\u001b[0;34m(\u001b[0m\u001b[0;34m(\u001b[0m\u001b[0mtrain_X\u001b[0m\u001b[0;34m.\u001b[0m\u001b[0mshape\u001b[0m\u001b[0;34m[\u001b[0m\u001b[0;36m1\u001b[0m\u001b[0;34m]\u001b[0m\u001b[0;34m,\u001b[0m\u001b[0;36m1\u001b[0m\u001b[0;34m)\u001b[0m\u001b[0;34m,\u001b[0m\u001b[0mdtype\u001b[0m\u001b[0;34m=\u001b[0m\u001b[0mnp\u001b[0m\u001b[0;34m.\u001b[0m\u001b[0mfloat\u001b[0m\u001b[0;34m)\u001b[0m\u001b[0;34m)\u001b[0m\u001b[0;34m\u001b[0m\u001b[0m\n\u001b[1;32m      8\u001b[0m     \u001b[0mprint\u001b[0m\u001b[0;34m(\u001b[0m\u001b[0;34m\"training :\"\u001b[0m\u001b[0;34m,\u001b[0m\u001b[0malphabet_labels\u001b[0m\u001b[0;34m[\u001b[0m\u001b[0mc\u001b[0m\u001b[0;34m]\u001b[0m\u001b[0;34m)\u001b[0m\u001b[0;34m\u001b[0m\u001b[0m\n\u001b[0;32m----> 9\u001b[0;31m     \u001b[0mp_theta\u001b[0m\u001b[0;34m,\u001b[0m\u001b[0mJ_history\u001b[0m\u001b[0;34m,\u001b[0m\u001b[0mnum_iters\u001b[0m \u001b[0;34m=\u001b[0m \u001b[0mgradient_descent\u001b[0m\u001b[0;34m(\u001b[0m\u001b[0mtrain_X\u001b[0m\u001b[0;34m,\u001b[0m \u001b[0mnp\u001b[0m\u001b[0;34m.\u001b[0m\u001b[0mmat\u001b[0m\u001b[0;34m(\u001b[0m\u001b[0mtrain_y\u001b[0m \u001b[0;34m==\u001b[0m \u001b[0mc\u001b[0m\u001b[0;34m,\u001b[0m\u001b[0mdtype\u001b[0m\u001b[0;34m=\u001b[0m \u001b[0mint\u001b[0m\u001b[0;34m)\u001b[0m\u001b[0;34m,\u001b[0m \u001b[0mtheta\u001b[0m\u001b[0;34m,\u001b[0m \u001b[0malpha\u001b[0m\u001b[0;34m,\u001b[0m \u001b[0miterations\u001b[0m\u001b[0;34m,\u001b[0m\u001b[0mlimit_J\u001b[0m\u001b[0;34m)\u001b[0m\u001b[0;34m\u001b[0m\u001b[0m\n\u001b[0m\u001b[1;32m     10\u001b[0m     \u001b[0mprint\u001b[0m\u001b[0;34m(\u001b[0m\u001b[0mJ_history\u001b[0m\u001b[0;34m[\u001b[0m\u001b[0mnum_iters\u001b[0m \u001b[0;34m-\u001b[0m \u001b[0;36m3\u001b[0m\u001b[0;34m:\u001b[0m\u001b[0mnum_iters\u001b[0m\u001b[0;34m]\u001b[0m\u001b[0;34m,\u001b[0m\u001b[0;34m\"num_iters:\"\u001b[0m\u001b[0;34m,\u001b[0m\u001b[0mnum_iters\u001b[0m\u001b[0;34m)\u001b[0m\u001b[0;34m\u001b[0m\u001b[0m\n\u001b[1;32m     11\u001b[0m     \u001b[0mall_theta\u001b[0m\u001b[0;34m[\u001b[0m\u001b[0mc\u001b[0m\u001b[0;34m,\u001b[0m\u001b[0;34m:\u001b[0m\u001b[0;34m]\u001b[0m \u001b[0;34m=\u001b[0m \u001b[0mp_theta\u001b[0m\u001b[0;34m.\u001b[0m\u001b[0mT\u001b[0m\u001b[0;34m\u001b[0m\u001b[0m\n",
      "\u001b[0;32m<ipython-input-648-afe88ecf85bb>\u001b[0m in \u001b[0;36mgradient_descent\u001b[0;34m(X, y, theta, alpha, num_iters, limit_J)\u001b[0m\n\u001b[1;32m     21\u001b[0m             \u001b[0mbatch_y\u001b[0m \u001b[0;34m=\u001b[0m \u001b[0my\u001b[0m\u001b[0;34m[\u001b[0m\u001b[0mbatch_start\u001b[0m\u001b[0;34m:\u001b[0m\u001b[0mbatch_start\u001b[0m\u001b[0;34m+\u001b[0m\u001b[0mbatch_size\u001b[0m\u001b[0;34m,\u001b[0m\u001b[0;34m:\u001b[0m\u001b[0;34m]\u001b[0m\u001b[0;34m\u001b[0m\u001b[0m\n\u001b[1;32m     22\u001b[0m             \u001b[0mJ\u001b[0m\u001b[0;34m,\u001b[0m\u001b[0mgrad\u001b[0m \u001b[0;34m=\u001b[0m \u001b[0mlogistic_regression_cost_function\u001b[0m\u001b[0;34m(\u001b[0m\u001b[0mtheta\u001b[0m\u001b[0;34m,\u001b[0m\u001b[0mbatch_X\u001b[0m\u001b[0;34m,\u001b[0m\u001b[0mbatch_y\u001b[0m\u001b[0;34m)\u001b[0m\u001b[0;34m\u001b[0m\u001b[0m\n\u001b[0;32m---> 23\u001b[0;31m             \u001b[0mJ_history\u001b[0m\u001b[0;34m[\u001b[0m\u001b[0mi\u001b[0m\u001b[0;34m]\u001b[0m \u001b[0;34m=\u001b[0m \u001b[0mJ\u001b[0m\u001b[0;34m\u001b[0m\u001b[0m\n\u001b[0m\u001b[1;32m     24\u001b[0m             \u001b[0mtheta\u001b[0m \u001b[0;34m=\u001b[0m \u001b[0mtheta\u001b[0m \u001b[0;34m-\u001b[0m \u001b[0malpha\u001b[0m \u001b[0;34m*\u001b[0m \u001b[0mgrad\u001b[0m\u001b[0;34m\u001b[0m\u001b[0m\n\u001b[1;32m     25\u001b[0m             \u001b[0mbatch_start\u001b[0m \u001b[0;34m+=\u001b[0m \u001b[0mbatch_size\u001b[0m\u001b[0;34m\u001b[0m\u001b[0m\n",
      "\u001b[0;31mValueError\u001b[0m: could not broadcast input array from shape (26,1) into shape (1)"
     ],
     "output_type": "error"
    }
   ],
   "source": [
    "all_theta = np.mat(np.empty((26,train_X.shape[1]),dtype=np.float))\n",
    "lambd = 0.1\n",
    "alpha = 0.01 # 太高时会出现 会直接跳过\n",
    "iterations = 1000\n",
    "limit_J = 0.001\n",
    "for c in range(26):\n",
    "    theta = np.mat(np.empty((train_X.shape[1],1),dtype=np.float))\n",
    "    print(\"training :\",alphabet_labels[c])\n",
    "    p_theta,J_history,num_iters = gradient_descent(train_X, train_y[c,:], theta, alpha, iterations,limit_J)\n",
    "    print(J_history[num_iters - 3:num_iters],\"num_iters:\",num_iters)\n",
    "    all_theta[c,:] = p_theta.T"
   ]
  },
  {
   "cell_type": "code",
   "execution_count": 654,
   "metadata": {},
   "outputs": [
    {
     "name": "stdout",
     "output_type": "stream",
     "text": [
      "[[ -1.19812781e+01  -5.53053105e-02  -1.40616826e-01 ...,  -2.26961712e-02\n",
      "   -1.98982125e-01   1.96043331e-02]\n",
      " [ -1.24985746e+01   5.57150549e-02   3.43999740e-01 ...,   1.21567515e-01\n",
      "    6.45133243e-02  -7.95997494e-02]\n",
      " [ -1.33106617e+01  -8.25372340e-02  -4.60027810e-01 ...,  -2.82056195e-01\n",
      "    3.02372450e-02   1.20049068e-01]\n",
      " ..., \n",
      " [ -1.28268207e+01   2.76645765e-01   1.59110942e-01 ...,  -8.49926976e-03\n",
      "   -1.20619493e-01   1.46653840e-02]\n",
      " [ -1.27620110e+01   3.22885634e-02   1.31722463e-01 ...,  -2.77273308e-01\n",
      "    1.83572807e-01  -2.55193374e-01]\n",
      " [ -1.21245093e+01  -9.50451525e-02  -4.94486230e-02 ...,  -1.80262521e-01\n",
      "    1.82612744e-01  -1.30809942e-01]]\n",
      "Accuracy : 58.150000, the predict ture item: 1163, the predict sum：2000\n"
     ]
    }
   ],
   "source": [
    "predicts = val_X * all_theta.T\n",
    "count = 0\n",
    "print(all_theta)\n",
    "for i in range(len(predicts)):\n",
    "    a = np.array(predicts[i])\n",
    "    max_index = np.argmax(predicts[i])\n",
    "    if val_y[i] == max_index:\n",
    "        count += 1\n",
    "print(\"Accuracy : %f, the predict ture item: %d, the predict sum：%d\" % (count/len(val_X) * 100,count,len(val_X)))"
   ]
  },
  {
   "cell_type": "code",
   "execution_count": 401,
   "metadata": {},
   "outputs": [
    {
     "data": {
      "text/plain": [
       "matrix([[ 0.69314718]])"
      ]
     },
     "execution_count": 401,
     "metadata": {},
     "output_type": "execute_result"
    }
   ],
   "source": [
    "data = np.loadtxt('ex2data1.txt', delimiter=\",\")\n",
    "X_t = data[:, 0:2]\n",
    "y_t = data[:, 2]\n",
    "X_t = np.c_[np.ones((X_t.shape[0], 1), dtype=np.int), X_t]\n",
    "initial_theta = np.mat(np.zeros((X_t.shape[1], 1),dtype=np.float));\n",
    "J,grad = logistic_regression_cost_function(initial_theta,X_t,y_t)\n",
    "J"
   ]
  },
  {
   "cell_type": "code",
   "execution_count": 560,
   "metadata": {},
   "outputs": [
    {
     "name": "stdout",
     "output_type": "stream",
     "text": [
      "(1799,)\n"
     ]
    }
   ],
   "source": [
    "imgs_dump = np.reshape(imgs[1],imgs.shape[1]*imgs.shape[2])\n",
    "imgs_dump_copy = imgs_dump\n",
    "for i in range(len(imgs_dump_copy) - 1):\n",
    "    imgs_dump = np.append(imgs_dump,imgs_dump_copy[i] * imgs_dump_copy[i+1])\n",
    "print(imgs_dump.shape)"
   ]
  },
  {
   "cell_type": "code",
   "execution_count": 628,
   "metadata": {},
   "outputs": [
    {
     "data": {
      "text/plain": [
       "array([-1.27475813,  0.6663122 ])"
      ]
     },
     "execution_count": 628,
     "metadata": {},
     "output_type": "execute_result"
    }
   ],
   "source": [
    "np.random.randn(2)"
   ]
  },
  {
   "cell_type": "code",
   "execution_count": 702,
   "metadata": {},
   "outputs": [],
   "source": [
    "load_data = np.load(\"kc_house_data.npz\")\n",
    "train = load_data['train']\n",
    "test = load_data['test']\n",
    "train_str = \"\"\n",
    "for i in range(train.shape[0]):\n",
    "    line_str = \"\"\n",
    "    for j in range(train.shape[1]):\n",
    "        if j == train.shape[1] -1 :\n",
    "            line_str = line_str + str(train[i,j])\n",
    "        else:\n",
    "            line_str = line_str + str(train[i,j]) + \";\"\n",
    "    train_str = train_str + line_str + \"\\n\"\n",
    "    \n",
    "for i in range(test.shape[0]):\n",
    "    line_str = \"\"\n",
    "    for j in range(test.shape[1]):\n",
    "        if j == train.shape[1] -1 :\n",
    "            line_str = line_str + str(train[i,j])\n",
    "        else:\n",
    "            line_str = line_str + str(train[i,j]) + \";\"\n",
    "    train_str = train_str + line_str + \"\\n\""
   ]
  },
  {
   "cell_type": "code",
   "execution_count": 703,
   "metadata": {},
   "outputs": [],
   "source": [
    "with open(\"kc_house.txt\",\"w\") as f:\n",
    "    f.write(train_str)\n",
    "    f.close"
   ]
  },
  {
   "cell_type": "code",
   "execution_count": null,
   "metadata": {
    "collapsed": true
   },
   "outputs": [],
   "source": []
  },
  {
   "cell_type": "code",
   "execution_count": null,
   "metadata": {
    "collapsed": true
   },
   "outputs": [],
   "source": []
  }
 ],
 "metadata": {
  "kernelspec": {
   "display_name": "Python 3",
   "language": "python",
   "name": "python3"
  },
  "language_info": {
   "codemirror_mode": {
    "name": "ipython",
    "version": 3
   },
   "file_extension": ".py",
   "mimetype": "text/x-python",
   "name": "python",
   "nbconvert_exporter": "python",
   "pygments_lexer": "ipython3",
   "version": "3.6.1"
  }
 },
 "nbformat": 4,
 "nbformat_minor": 2
}
