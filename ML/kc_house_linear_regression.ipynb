{
 "cells": [
  {
   "cell_type": "code",
   "execution_count": 26,
   "metadata": {
    "collapsed": true
   },
   "outputs": [],
   "source": [
    "import matplotlib.pyplot as plt\n",
    "import numpy as np\n",
    "import pandas as pd\n",
    "import itertools\n",
    "from sklearn.model_selection import train_test_split"
   ]
  },
  {
   "cell_type": "code",
   "execution_count": 365,
   "metadata": {
    "collapsed": true
   },
   "outputs": [],
   "source": [
    "columns_list = ['id', 'date', 'price', 'bedrooms', 'bathrooms', 'sqft_living', 'sqft_lot', 'floors', 'waterfront', 'view', 'condition', 'grade', 'sqft_above', 'sqft_basement', 'yr_built', 'yr_renovated', 'zipcode', 'lat', 'long', 'sqft_living15', 'sqft_lot15']\n",
    "\n",
    "def prepare_data(data):\n",
    "    data = pd.DataFrame(train,columns=columns_list)\n",
    "    data['basement_present'] = data['sqft_basement'].apply(lambda x: 1 if x > 0 else 0) # Indicate whether there is a basement or not\n",
    "    data['renovated'] = data['yr_renovated'].apply(lambda x: 1 if x > 0 else 0) # 1 if the house has been renovated\n",
    "\n",
    "    data['sqft_living_squared'] = data['sqft_living'].apply(lambda x: x**2)\n",
    "    data['sqft_living_cubed'] = data['sqft_living'].apply(lambda x: x**3) \n",
    "    data['log_sqft_living'] = data['sqft_living'].apply(lambda x: np.log(x))\n",
    "\n",
    "    data['bedrooms_squared'] = data['bedrooms'].apply(lambda x: x**2) \n",
    "    data['bed_bath_rooms'] = data['bedrooms']*data['bathrooms']\n",
    "    # 分类\n",
    "    categorial_cols = ['floors', 'view', 'condition', 'grade']\n",
    "    for cc in categorial_cols:\n",
    "        dummies = pd.get_dummies(data[cc], drop_first=False)\n",
    "        dummies = dummies.add_prefix(\"{}#\".format(cc))\n",
    "        data.drop(cc, axis=1, inplace=True)\n",
    "        data = data.join(dummies)\n",
    "\n",
    "    dummies_zipcodes = pd.get_dummies(data['zipcode'], drop_first=False)\n",
    "    dummies_zipcodes.reset_index(inplace=True)\n",
    "    dummies_zipcodes = dummies_zipcodes.add_prefix(\"{}#\".format('zipcode'))\n",
    "    dummies_zipcodes = dummies_zipcodes[['zipcode#98039','zipcode#98004','zipcode#98040','zipcode#98112','zipcode#98102']]\n",
    "    data.drop('zipcode', axis=1, inplace=True)\n",
    "    data = data.join(dummies_zipcodes)\n",
    "    data_arr = np.array(data)\n",
    "    \n",
    "    X = np.mat(data_arr[:,3:data.shape[1]],dtype=np.float32)\n",
    "    y = np.mat(data_arr[:,2:3],dtype=np.float32)\n",
    "    return X,y\n",
    "\n",
    "\n",
    "def linear_model(X,W,b):\n",
    "    return X * W + b\n",
    "\n",
    "\n",
    "def cost_function(y, h):\n",
    "    return np.mean(np.power(h - y, 2)) / 2\n",
    "\n",
    "\n",
    "def gradient_descent(X, y, h,W, b, alpha):\n",
    "    m = X.shape[0]\n",
    "    d_W = (X.T * (h - y)) / m\n",
    "    d_b = np.mean(h - y)\n",
    "    return (W - alpha * d_W), (b - alpha * d_b)\n",
    "\n",
    "\n",
    "def normal_equation(X, y):\n",
    "    theta = (X.T * X).I * X.T * y\n",
    "    W = theta[1:X.shape[0],0]\n",
    "    b = theta[0,0]\n",
    "    return W,b \n",
    "\n",
    "\n",
    "def feature_normalize(X):\n",
    "    stds = np.std(X, axis=0)\n",
    "    means = np.mean(X, axis=0)\n",
    "    for c in range(X.shape[1]):\n",
    "        X[:, c] = (X[:, c] - means[0,c]) / stds[0,c]\n",
    "    return X,stds,means\n",
    "\n",
    "\n",
    "def increase_dimension(X,dimension=2):\n",
    "    X_copy = np.array(X);\n",
    "    index_arr = np.arange(X.shape[1])\n",
    "    for d in range(2,dimension+1):\n",
    "        for c in itertools.combinations(index_arr,d):\n",
    "            new_feature = np.array(np.ones((X_copy.shape[0],1),dtype=np.float32))\n",
    "            for i in range(d):\n",
    "                new_feature = new_feature * X_copy[:,c[i]:c[i]+1]\n",
    "            X = np.hstack((new_feature,X))\n",
    "        for f in index_arr:\n",
    "            new_feature = np.power(X_copy[:,f:f+1],d)\n",
    "            X = np.hstack((new_feature,X))\n",
    "    return X\n"
   ]
  },
  {
   "cell_type": "markdown",
   "metadata": {},
   "source": [
    "## prepare data"
   ]
  },
  {
   "cell_type": "code",
   "execution_count": 366,
   "metadata": {},
   "outputs": [
    {
     "name": "stdout",
     "output_type": "stream",
     "text": [
      "(17290, 21)\n",
      "(4323, 21)\n",
      "train X shape (21613, 18),train y shape (21613, 1)\n",
      "test X shape (21613, 18),test y shape (21613, 1)\n",
      "train X 1: [[  3.00000000e+00   1.00000000e+00   1.18000000e+03   5.65000000e+03\n",
      "    0.00000000e+00   1.18000000e+03   0.00000000e+00   1.95500000e+03\n",
      "    0.00000000e+00   4.75112000e+01  -1.22257004e+02   1.34000000e+03\n",
      "    5.65000000e+03   1.00000000e+00   0.00000000e+00   0.00000000e+00\n",
      "    0.00000000e+00   0.00000000e+00]]\n"
     ]
    }
   ],
   "source": [
    "load_data = np.load(\"kc_house_data.npz\")\n",
    "train = load_data['train']\n",
    "test = load_data['test']\n",
    "print(train.shape)\n",
    "print(test.shape)\n",
    "\n",
    "train_X,train_y = prepare_data(train)\n",
    "test_X,test_y = prepare_data(test)\n",
    "\n",
    "print(\"train X shape {0},train y shape {1}\".format(train_X.shape,train_y.shape))\n",
    "print(\"test X shape {0},test y shape {1}\".format(test_X.shape,test_y.shape))\n",
    "print(\"train X 1:\",train_X[0,:])\n",
    "\n",
    "train_X,train_X_stds,train_X_means = feature_normalize(train_X)\n",
    "train_y,train_y_stds,train_y_means = feature_normalize(train_y)\n",
    "\n",
    "for c in range(test_X.shape[1]):\n",
    "        test_X[:, c] = (test_X[:, c] - train_X_means[0,c]) / train_X_stds[0,c]\n",
    "\n",
    "test_y_fn = (test_y - train_y_means[0,0]) / train_y_stds[0,0]"
   ]
  },
  {
   "cell_type": "code",
   "execution_count": 367,
   "metadata": {},
   "outputs": [
    {
     "name": "stdout",
     "output_type": "stream",
     "text": [
      "epoch: 100,cost: 1.4817797112428701,test_cost: 1.458906507168741\n",
      "epoch: 200,cost: 0.44164958850221625,test_cost: 0.4379221982368497\n",
      "epoch: 300,cost: 0.25207821562572036,test_cost: 0.251244828541431\n",
      "epoch: 400,cost: 0.20389422744200958,test_cost: 0.20363557849932323\n",
      "epoch: 500,cost: 0.18711074113169177,test_cost: 0.187006361671173\n",
      "epoch: 600,cost: 0.17979451692337195,test_cost: 0.17974492544471746\n",
      "epoch: 700,cost: 0.1761614280242644,test_cost: 0.17613562270795582\n",
      "epoch: 800,cost: 0.17422284578468128,test_cost: 0.17420870723917645\n",
      "epoch: 900,cost: 0.17314438433271326,test_cost: 0.17313638932811198\n",
      "epoch: 1000,cost: 0.17252830770171643,test_cost: 0.17252368929983167\n",
      "epoch: 1100,cost: 0.17216975817595825,test_cost: 0.17216704768284635\n",
      "epoch: 1200,cost: 0.17195806866494975,test_cost: 0.17195645738303608\n",
      "epoch: 1300,cost: 0.17183158299449341,test_cost: 0.17183061451388154\n",
      "epoch: 1400,cost: 0.17175520899094296,test_cost: 0.17175462107271425\n",
      "epoch: 1500,cost: 0.17170865103628932,test_cost: 0.17170829087077819\n",
      "epoch: 1600,cost: 0.17168001748804526,test_cost: 0.17167979496644334\n",
      "epoch: 1700,cost: 0.1716622618716094,test_cost: 0.17166212329282612\n",
      "epoch: 1800,cost: 0.17165116597384314,test_cost: 0.17165107902078988\n",
      "epoch: 1900,cost: 0.17164418066325024,test_cost: 0.17164412570959695\n",
      "epoch: 2000,cost: 0.1716397517456445,test_cost: 0.17163971676981937\n",
      "epoch: 2100,cost: 0.171636923726309,test_cost: 0.1716369013056299\n",
      "epoch: 2200,cost: 0.1716351046070532,test_cost: 0.17163509012416348\n",
      "epoch: 2300,cost: 0.17163392495742041,test_cost: 0.17163391552026772\n",
      "epoch: 2400,cost: 0.17163315271254986,test_cost: 0.17163314649832456\n",
      "epoch: 2500,cost: 0.1716326412190717,test_cost: 0.17163263707234896\n",
      "epoch: 2600,cost: 0.1716322972964173,test_cost: 0.17163229448106468\n",
      "epoch: 2700,cost: 0.1716320614520601,test_cost: 0.17163205949694427\n",
      "epoch: 2800,cost: 0.17163189553823074,test_cost: 0.17163189414060462\n",
      "epoch: 2900,cost: 0.1716317750006321,test_cost: 0.17163177396526164\n",
      "epoch: 3000,cost: 0.1716316839816672,test_cost: 0.17163168318225883\n",
      "finish train!\n",
      "the end cost: 0.17163168318225883,test_cost:0.17163168318225883\n"
     ]
    },
    {
     "data": {
      "image/png": "[encoded data removed]",
      "text/plain": [
       "<matplotlib.figure.Figure at 0x114d96898>"
      ]
     },
     "metadata": {},
     "output_type": "display_data"
    }
   ],
   "source": [
    "feature_count = train_X.shape[1];\n",
    "W = np.mat(np.array(np.random.randn(feature_count)).astype(np.float32).reshape(feature_count,1))\n",
    "b = np.random.randn()\n",
    "\n",
    "alpha = 0.01\n",
    "iterations = 3000\n",
    "\n",
    "step = 100\n",
    "cost_history = np.mat(np.zeros((iterations,1),dtype=np.float32))\n",
    "test_cost_history = np.mat(np.zeros((iterations,1),dtype=np.float32))\n",
    "\n",
    "for epoch in range(iterations):\n",
    "    h = linear_model(train_X,W,b)\n",
    "    W,b = gradient_descent(train_X,train_y,h,W,b,alpha)\n",
    "    \n",
    "    cost = cost_function(train_y,h)\n",
    "    test_h = linear_model(test_X,W,b)\n",
    "    test_cost = cost_function(test_y_fn,test_h)\n",
    "    cost_history[epoch] = cost\n",
    "    test_cost_history[epoch] = test_cost\n",
    "\n",
    "    if (epoch + 1) % step == 0:\n",
    "        print(\"epoch: {0},cost: {1},test_cost: {2}\".format(epoch + 1, cost,test_cost))\n",
    "\n",
    "print(\"finish train!\")\n",
    "h = linear_model(train_X,W,b)    \n",
    "cost = cost_function(train_y,h)\n",
    "test_h = linear_model(test_X,W,b)\n",
    "test_cost = cost_function(test_y_fn,test_h)\n",
    "print(\"the end cost: {0},test_cost:{1}\".format(cost,test_cost))\n",
    "plt.plot(range(iterations), cost_history, 'r-', label='cost')\n",
    "plt.plot(range(iterations), test_cost_history, 'b-', label='test_cost')\n",
    "plt.grid(True)\n",
    "plt.legend()\n",
    "plt.show()"
   ]
  },
  {
   "cell_type": "code",
   "execution_count": 368,
   "metadata": {
    "scrolled": false
   },
   "outputs": [
    {
     "data": {
      "image/png": "[encoded data removed]",
      "text/plain": [
       "<matplotlib.figure.Figure at 0x11caf27f0>"
      ]
     },
     "metadata": {},
     "output_type": "display_data"
    }
   ],
   "source": [
    "test_X_origin = test_X[:,2]*train_X_stds[0,2]+train_X_means[0,2]\n",
    "\n",
    "predictions = linear_model(test_X, W, b) * train_y_stds[0,0] + train_y_means[0,0]\n",
    "\n",
    "plt.plot(test_X_origin, test_y, 'r+', label=\"feature 3-sqft_living\")\n",
    "plt.plot(test_X_origin, predictions, 'b+', label='fitted')\n",
    "plt.grid(True)\n",
    "plt.legend()\n",
    "plt.show()"
   ]
  },
  {
   "cell_type": "markdown",
   "metadata": {},
   "source": [
    "## normal equation"
   ]
  },
  {
   "cell_type": "code",
   "execution_count": 369,
   "metadata": {},
   "outputs": [
    {
     "data": {
      "image/png": "[encoded data removed]",
      "text/plain": [
       "<matplotlib.figure.Figure at 0x143ef23c8>"
      ]
     },
     "metadata": {},
     "output_type": "display_data"
    }
   ],
   "source": [
    "ne_W,ne_b = normal_equation(np.c_[np.ones((train_X.shape[0],1),dtype=np.float32),train_X],train_y)\n",
    "\n",
    "ne_predictions = linear_model(test_X, ne_W, ne_b) * train_y_stds[0,0] + train_y_means[0,0]\n",
    "\n",
    "plt.plot(test_X_origin, test_y, 'r+', label=\"feature 3-sqft_living\")\n",
    "plt.plot(test_X_origin, ne_predictions, 'b+', label='fitted')\n",
    "plt.grid(True)\n",
    "plt.legend()\n",
    "plt.show()"
   ]
  },
  {
   "cell_type": "code",
   "execution_count": null,
   "metadata": {
    "collapsed": true
   },
   "outputs": [],
   "source": []
  }
 ],
 "metadata": {
  "kernelspec": {
   "display_name": "Python 3",
   "language": "python",
   "name": "python3"
  },
  "language_info": {
   "codemirror_mode": {
    "name": "ipython",
    "version": 3
   },
   "file_extension": ".py",
   "mimetype": "text/x-python",
   "name": "python",
   "nbconvert_exporter": "python",
   "pygments_lexer": "ipython3",
   "version": "3.6.1"
  }
 },
 "nbformat": 4,
 "nbformat_minor": 2
}
