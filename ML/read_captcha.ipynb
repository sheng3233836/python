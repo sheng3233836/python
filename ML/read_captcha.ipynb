{
 "cells": [
  {
   "cell_type": "code",
   "execution_count": 4,
   "metadata": {
    "collapsed": true
   },
   "outputs": [],
   "source": [
    "import cv2\n",
    "import os,sys,random\n",
    "import numpy as np\n",
    "import gzip\n",
    "import time,tqdm\n",
    "import matplotlib.pyplot as plt"
   ]
  },
  {
   "cell_type": "markdown",
   "metadata": {},
   "source": [
    "## logistic regression"
   ]
  },
  {
   "cell_type": "code",
   "execution_count": 115,
   "metadata": {
    "collapsed": true
   },
   "outputs": [],
   "source": [
    "epsilon = 0.0000001\n",
    "\n",
    "def linear_model(X, W, b):\n",
    "    return np.matmul(X, W) + b\n",
    "\n",
    "\n",
    "def sigmoid(z):\n",
    "    return 1 / (1 + np.exp(-z))\n",
    "\n",
    "\n",
    "def logistic_model(X, W, b):\n",
    "    return sigmoid(linear_model(X,W,b))\n",
    "\n",
    "\n",
    "def logistic_regression_cost_function(h,y):\n",
    "    return 1/y.shape[0] * (-y.T * np.log(h + epsilon) - (1 - y.T) * np.log(1- h + epsilon))\n",
    "\n",
    "\n",
    "def gradient_descent_update(X, y, h, W, b, alpha = 0.01):\n",
    "    m = X.shape[0]\n",
    "    d_W = (X.T * (h - y)) / m\n",
    "    d_b = np.mean(h - y)\n",
    "    return (W - alpha * d_W), (b - alpha * d_b)\n",
    "\n",
    "\n",
    "def feature_normalize(X,stds,means):\n",
    "    for c in range(X.shape[1]):\n",
    "        X[:, c] = (X[:, c] - means[0,c]) / stds[0,c]\n",
    "    return X\n",
    "\n",
    "\n",
    "def prepare_data(X,y):\n",
    "    X = np.mat(X.reshape((X.shape[0], X.shape[1] * X.shape[2])),dtype=np.float32)\n",
    "    y = np.mat(y,dtype=np.float32)\n",
    "    return X,y\n",
    "\n",
    "\n",
    "def binary_confusion_matrix(h, y, threshold=0.5):\n",
    "    true_pos = 0\n",
    "    false_pos = 0\n",
    "    true_neg = 0\n",
    "    false_neg = 0\n",
    "    for cid in range(0, y.shape[0]):\n",
    "        if h[cid] > threshold:            \n",
    "            if y[cid] > 0.5:\n",
    "                true_pos += 1\n",
    "            else:\n",
    "                false_pos += 1\n",
    "        else:\n",
    "            if y[cid] > 0.5:\n",
    "                false_neg += 1\n",
    "            else:\n",
    "                true_neg += 1\n",
    "    pc = true_pos / (true_pos + false_pos)\n",
    "    rc = true_pos / (true_pos + false_neg)\n",
    "    f1 = 2.0 * (pc * rc) / (pc + rc)\n",
    "    return pc, rc, f1\n",
    "\n",
    "def predict(h,y,threshold=0.5):\n",
    "    count = 0\n",
    "    for i in range(y.shape[0]):\n",
    "        result = 0\n",
    "        if h[i] > threshold:\n",
    "            result = 1\n",
    "        if y[i] == result:\n",
    "            count += 1\n",
    "    return count\n",
    "\n",
    "\n",
    "def showcase(X, y, h, case_num=10):\n",
    "    for test_i in range(0, case_num):\n",
    "        rid = random.randint(0, y.shape[0] - 1)\n",
    "        img = np.reshape(X[rid],(30,30))\n",
    "        show_img(img)\n",
    "        print('truth: {0}, h: {1}'.format(alphabet_labels[np.argmax(y[rid])],  alphabet_labels[np.argmax(h[rid])]))\n",
    "\n",
    "        \n",
    "def show_img(img, zoom=4, dpi=80):\n",
    "    w = img.shape[0]\n",
    "    h = img.shape[1]\n",
    "    plt.figure(figsize=(w*zoom/dpi, h*zoom/dpi), dpi=dpi)\n",
    "    plt.axis('off')\n",
    "    plt.imshow(img, cmap=plt.get_cmap('gray'))\n",
    "    plt.show()\n",
    "    return"
   ]
  },
  {
   "cell_type": "code",
   "execution_count": 105,
   "metadata": {},
   "outputs": [
    {
     "name": "stdout",
     "output_type": "stream",
     "text": [
      "shape X (100000, 30, 30), y (100000, 26)\n",
      "shape X (20000, 30, 30), y (20000, 26)\n",
      "shape X (10000, 30, 30), y (10000, 26)\n",
      "sample image:\n"
     ]
    },
    {
     "data": {
      "image/png": "[encoded data removed]",
      "text/plain": [
       "<matplotlib.figure.Figure at 0x119600358>"
      ]
     },
     "metadata": {},
     "output_type": "display_data"
    },
    {
     "name": "stdout",
     "output_type": "stream",
     "text": [
      "sample label: ['R', 'G', 'N', 'G', 'B', 'H', 'G', 'H', 'L', 'N']\n",
      "\n",
      "training size: 100000\n"
     ]
    }
   ],
   "source": [
    "train_data = np.load('./data.npz')\n",
    "train_X=train_data['X']\n",
    "train_y=train_data['y']\n",
    "print('shape X {0}, y {1}'.format(train_X.shape, train_y.shape))\n",
    "\n",
    "validate_data = np.load('./val.npz')\n",
    "validate_X=validate_data['X']\n",
    "validate_y=validate_data['y']\n",
    "print('shape X {0}, y {1}'.format(validate_X.shape, validate_y.shape))\n",
    "\n",
    "test_data = np.load('./test.npz')\n",
    "test_X=test_data['X']\n",
    "test_y=test_data['y']\n",
    "print('shape X {0}, y {1}'.format(test_X.shape, test_y.shape))\n",
    "\n",
    "\n",
    "alphabet_labels = \"ABCDEFGHIJKLMNOPQRSTUVWXYZ\"\n",
    "print('sample image:')\n",
    "train_labels = []\n",
    "for i in range(10):\n",
    "    plt.subplot(1,10,i+1)\n",
    "    plt.imshow(train_X[i], cmap='Greys_r')\n",
    "    plt.axis('off')\n",
    "    train_labels.append(alphabet_labels[np.argmax(train_y[i])])\n",
    "plt.show()\n",
    "print('sample label: %s' % train_labels)\n",
    "print('')\n",
    "print('training size: %s' % len(train_X))"
   ]
  },
  {
   "cell_type": "code",
   "execution_count": 106,
   "metadata": {},
   "outputs": [
    {
     "data": {
      "text/plain": [
       "(100000, 900)"
      ]
     },
     "execution_count": 106,
     "metadata": {},
     "output_type": "execute_result"
    }
   ],
   "source": [
    "train_X,train_y = prepare_data(train_X,train_y)\n",
    "validate_X,validate_y = prepare_data(validate_X,validate_y)\n",
    "test_X,test_y = prepare_data(test_X,test_y)\n",
    "\n",
    "# stds = np.std(train_X, axis=0)\n",
    "# means = np.mean(train_X, axis=0)\n",
    "# train_X = feature_normalize(train_X,stds,means)\n",
    "# test_X = feature_normalize(test_X,stds,means)\n",
    "# validate_X = feature_normalize(validate_X,stds,means)\n",
    "\n",
    "train_X = (train_X/255).astype(np.float32)\n",
    "test_X = (test_X/255).astype(np.float32)\n",
    "validate_X = (validate_X/255).astype(np.float32)\n",
    "\n",
    "train_X.shape"
   ]
  },
  {
   "cell_type": "code",
   "execution_count": 119,
   "metadata": {
    "scrolled": true
   },
   "outputs": [
    {
     "name": "stdout",
     "output_type": "stream",
     "text": [
      "training : A\n",
      "epoch: 500,the train cost:[[ 0.42856033]],the val cost:[[ 0.41541096]]\n",
      "epoch: 1000,the train cost:[[ 0.40459304]],the val cost:[[ 0.39191223]]\n",
      "finish train A,the train cost:[[ 0.40459304]],the val cost:[[ 0.39191223]]\n",
      "the validate A,the accuracy:0.93725,the precision:0.05206463195691203,recall:0.03835978835978836,f1:0.044173648134044174\n",
      "training : B\n",
      "epoch: 500,the train cost:[[ 0.30096469]],the val cost:[[ 0.32119478]]\n",
      "epoch: 1000,the train cost:[[ 0.29470109]],the val cost:[[ 0.31443611]]\n",
      "finish train B,the train cost:[[ 0.29470109]],the val cost:[[ 0.31443611]]\n",
      "the validate B,the accuracy:0.93565,the precision:0.05108055009823183,recall:0.03132530120481928,f1:0.038834951456310676\n",
      "training : C\n",
      "epoch: 500,the train cost:[[ 0.33690295]],the val cost:[[ 0.34450626]]\n",
      "epoch: 1000,the train cost:[[ 0.31934406]],the val cost:[[ 0.32619826]]\n",
      "finish train C,the train cost:[[ 0.31934406]],the val cost:[[ 0.32619826]]\n",
      "the validate C,the accuracy:0.9359,the precision:0.04081632653061224,recall:0.02795425667090216,f1:0.033182503770739065\n",
      "training : D\n",
      "epoch: 500,the train cost:[[ 0.26712701]],the val cost:[[ 0.25600855]]\n",
      "epoch: 1000,the train cost:[[ 0.26143313]],the val cost:[[ 0.250466]]\n",
      "finish train D,the train cost:[[ 0.26143313]],the val cost:[[ 0.250466]]\n",
      "the validate D,the accuracy:0.93695,the precision:0.040515653775322284,recall:0.028871391076115485,f1:0.033716475095785445\n",
      "training : E\n",
      "epoch: 500,the train cost:[[ 0.27851457]],the val cost:[[ 0.28267353]]\n",
      "epoch: 1000,the train cost:[[ 0.2712512]],the val cost:[[ 0.2754796]]\n",
      "finish train E,the train cost:[[ 0.2712512]],the val cost:[[ 0.2754796]]\n",
      "the validate E,the accuracy:0.93715,the precision:0.029411764705882353,recall:0.021476510067114093,f1:0.024825446082234293\n",
      "training : F\n",
      "epoch: 500,the train cost:[[ 0.34589696]],the val cost:[[ 0.32921703]]\n",
      "epoch: 1000,the train cost:[[ 0.33255975]],the val cost:[[ 0.31643005]]\n",
      "finish train F,the train cost:[[ 0.33255975]],the val cost:[[ 0.31643005]]\n",
      "the validate F,the accuracy:0.93875,the precision:0.03824091778202677,recall:0.026954177897574125,f1:0.03162055335968379\n",
      "training : G\n",
      "epoch: 500,the train cost:[[ 0.33339783]],the val cost:[[ 0.34105316]]\n",
      "epoch: 1000,the train cost:[[ 0.32174168]],the val cost:[[ 0.32886685]]\n",
      "finish train G,the train cost:[[ 0.32174168]],the val cost:[[ 0.32886685]]\n",
      "the validate G,the accuracy:0.93905,the precision:0.038539553752535496,recall:0.024869109947643978,f1:0.030230708035003977\n",
      "training : H\n",
      "epoch: 500,the train cost:[[ 0.36234555]],the val cost:[[ 0.35033717]]\n",
      "epoch: 1000,the train cost:[[ 0.34943698]],the val cost:[[ 0.33792313]]\n",
      "finish train H,the train cost:[[ 0.34943698]],the val cost:[[ 0.33792313]]\n",
      "the validate H,the accuracy:0.939,the precision:0.05385996409335727,recall:0.04149377593360996,f1:0.046875\n",
      "training : I\n",
      "epoch: 500,the train cost:[[ 0.38722922]],the val cost:[[ 0.39415256]]\n",
      "epoch: 1000,the train cost:[[ 0.36633785]],the val cost:[[ 0.37316876]]\n",
      "finish train I,the train cost:[[ 0.36633785]],the val cost:[[ 0.37316876]]\n",
      "the validate I,the accuracy:0.9375,the precision:0.051440329218107,recall:0.030712530712530713,f1:0.038461538461538464\n",
      "training : J\n",
      "epoch: 500,the train cost:[[ 0.28841076]],the val cost:[[ 0.28814905]]\n",
      "epoch: 1000,the train cost:[[ 0.27252818]],the val cost:[[ 0.27236493]]\n",
      "finish train J,the train cost:[[ 0.27252818]],the val cost:[[ 0.27236493]]\n",
      "the validate J,the accuracy:0.9376,the precision:0.0392156862745098,recall:0.02570694087403599,f1:0.03105590062111801\n",
      "training : K\n",
      "epoch: 500,the train cost:[[ 0.30424549]],the val cost:[[ 0.3050764]]\n",
      "epoch: 1000,the train cost:[[ 0.29537351]],the val cost:[[ 0.29620195]]\n",
      "finish train K,the train cost:[[ 0.29537351]],the val cost:[[ 0.29620195]]\n",
      "the validate K,the accuracy:0.93865,the precision:0.036290322580645164,recall:0.02346805736636245,f1:0.028503562945368172\n",
      "training : L\n",
      "epoch: 500,the train cost:[[ 0.36587361]],the val cost:[[ 0.35185143]]\n",
      "epoch: 1000,the train cost:[[ 0.34698515]],the val cost:[[ 0.33340791]]\n",
      "finish train L,the train cost:[[ 0.34698515]],the val cost:[[ 0.33340791]]\n",
      "the validate L,the accuracy:0.93835,the precision:0.040145985401459854,recall:0.03017832647462277,f1:0.03445575567736883\n",
      "training : M\n",
      "epoch: 500,the train cost:[[ 0.28361145]],the val cost:[[ 0.26913781]]\n",
      "epoch: 1000,the train cost:[[ 0.27454849]],the val cost:[[ 0.26028263]]\n",
      "finish train M,the train cost:[[ 0.27454849]],the val cost:[[ 0.26028263]]\n",
      "the validate M,the accuracy:0.9392,the precision:0.03288201160541586,recall:0.023192360163710776,f1:0.0272\n",
      "training : N\n",
      "epoch: 500,the train cost:[[ 0.26166801]],the val cost:[[ 0.26187732]]\n",
      "epoch: 1000,the train cost:[[ 0.25480543]],the val cost:[[ 0.25528985]]\n",
      "finish train N,the train cost:[[ 0.25480543]],the val cost:[[ 0.25528985]]\n",
      "the validate N,the accuracy:0.9407,the precision:0.05625,recall:0.035526315789473684,f1:0.043548387096774194\n",
      "training : O\n",
      "epoch: 500,the train cost:[[ 0.29863767]],the val cost:[[ 0.297196]]\n",
      "epoch: 1000,the train cost:[[ 0.29065693]],the val cost:[[ 0.28971275]]\n",
      "finish train O,the train cost:[[ 0.29065693]],the val cost:[[ 0.28971275]]\n",
      "the validate O,the accuracy:0.93845,the precision:0.03612167300380228,recall:0.02557200538358008,f1:0.02994483845547675\n",
      "training : P\n",
      "epoch: 500,the train cost:[[ 0.4037421]],the val cost:[[ 0.41167645]]\n",
      "epoch: 1000,the train cost:[[ 0.38529835]],the val cost:[[ 0.39245472]]\n",
      "finish train P,the train cost:[[ 0.38529835]],the val cost:[[ 0.39245472]]\n",
      "the validate P,the accuracy:0.93575,the precision:0.036036036036036036,recall:0.025974025974025976,f1:0.03018867924528302\n",
      "training : Q\n",
      "epoch: 500,the train cost:[[ 0.34159239]],the val cost:[[ 0.34188193]]\n",
      "epoch: 1000,the train cost:[[ 0.32758914]],the val cost:[[ 0.32803758]]\n",
      "finish train Q,the train cost:[[ 0.32758914]],the val cost:[[ 0.32803758]]\n",
      "the validate Q,the accuracy:0.9372,the precision:0.048417132216014895,recall:0.03372243839169909,f1:0.039755351681957186\n",
      "training : R\n",
      "epoch: 500,the train cost:[[ 0.29415048]],the val cost:[[ 0.28895769]]\n",
      "epoch: 1000,the train cost:[[ 0.2870611]],the val cost:[[ 0.28217917]]\n",
      "finish train R,the train cost:[[ 0.2870611]],the val cost:[[ 0.28217917]]\n",
      "the validate R,the accuracy:0.93945,the precision:0.03463203463203463,recall:0.020486555697823303,f1:0.02574416733708769\n",
      "training : S\n",
      "epoch: 500,the train cost:[[ 0.34539149]],the val cost:[[ 0.35100456]]\n",
      "epoch: 1000,the train cost:[[ 0.33234607]],the val cost:[[ 0.33814207]]\n",
      "finish train S,the train cost:[[ 0.33234607]],the val cost:[[ 0.33814207]]\n",
      "the validate S,the accuracy:0.9406,the precision:0.04291845493562232,recall:0.026246719160104987,f1:0.03257328990228013\n",
      "training : T\n",
      "epoch: 500,the train cost:[[ 0.37851538]],the val cost:[[ 0.39722302]]\n",
      "epoch: 1000,the train cost:[[ 0.36378597]],the val cost:[[ 0.38181414]]\n",
      "finish train T,the train cost:[[ 0.36378597]],the val cost:[[ 0.38181414]]\n",
      "the validate T,the accuracy:0.938,the precision:0.04081632653061224,recall:0.02531645569620253,f1:0.03125\n",
      "training : U\n",
      "epoch: 500,the train cost:[[ 0.40156622]],the val cost:[[ 0.41142383]]\n",
      "epoch: 1000,the train cost:[[ 0.38777496]],the val cost:[[ 0.39708362]]\n",
      "finish train U,the train cost:[[ 0.38777496]],the val cost:[[ 0.39708362]]\n",
      "the validate U,the accuracy:0.93485,the precision:0.04664179104477612,recall:0.030599755201958383,f1:0.03695491500369549\n",
      "training : V\n",
      "epoch: 500,the train cost:[[ 0.34755197]],the val cost:[[ 0.33590156]]\n",
      "epoch: 1000,the train cost:[[ 0.335763]],the val cost:[[ 0.32456077]]\n",
      "finish train V,the train cost:[[ 0.335763]],the val cost:[[ 0.32456077]]\n",
      "the validate V,the accuracy:0.9397,the precision:0.03435114503816794,recall:0.025069637883008356,f1:0.028985507246376812\n",
      "training : W\n",
      "epoch: 500,the train cost:[[ 0.417734]],the val cost:[[ 0.4179586]]\n",
      "epoch: 1000,the train cost:[[ 0.40438832]],the val cost:[[ 0.40440264]]\n",
      "finish train W,the train cost:[[ 0.40438832]],the val cost:[[ 0.40440264]]\n",
      "the validate W,the accuracy:0.9367,the precision:0.04238921001926782,recall:0.02781289506953224,f1:0.03358778625954199\n",
      "training : X\n",
      "epoch: 500,the train cost:[[ 0.30891344]],the val cost:[[ 0.30014776]]\n",
      "epoch: 1000,the train cost:[[ 0.29827043]],the val cost:[[ 0.28942618]]\n",
      "finish train X,the train cost:[[ 0.29827043]],the val cost:[[ 0.28942618]]\n",
      "the validate X,the accuracy:0.93625,the precision:0.029574861367837338,recall:0.020887728459530026,f1:0.02448355011476664\n",
      "training : Y\n"
     ]
    },
    {
     "name": "stdout",
     "output_type": "stream",
     "text": [
      "epoch: 500,the train cost:[[ 0.39849326]],the val cost:[[ 0.44419239]]\n",
      "epoch: 1000,the train cost:[[ 0.38610067]],the val cost:[[ 0.4302463]]\n",
      "finish train Y,the train cost:[[ 0.38610067]],the val cost:[[ 0.4302463]]\n",
      "the validate Y,the accuracy:0.93335,the precision:0.036328871892925434,recall:0.02240566037735849,f1:0.02771699489423778\n",
      "training : Z\n",
      "epoch: 500,the train cost:[[ 0.33897239]],the val cost:[[ 0.3307825]]\n",
      "epoch: 1000,the train cost:[[ 0.32308724]],the val cost:[[ 0.31556938]]\n",
      "finish train Z,the train cost:[[ 0.32308724]],the val cost:[[ 0.31556938]]\n",
      "the validate Z,the accuracy:0.93925,the precision:0.038,recall:0.025232403718459494,f1:0.030327214684756583\n"
     ]
    }
   ],
   "source": [
    "feature_count = train_X.shape[1];\n",
    "all_W = np.mat(np.zeros((26,feature_count),dtype=np.float32))\n",
    "all_b = np.mat(np.zeros((26,1),dtype=np.float32))\n",
    "\n",
    "alpha = 0.01 # 太高时会出现 会直接跳过\n",
    "iterations = 1000\n",
    "threshold=0.5\n",
    "step = 500\n",
    "\n",
    "for c in range(26):\n",
    "    W = np.array(np.random.randn(feature_count)).astype(np.float32).reshape(feature_count,1)\n",
    "    b = np.random.randn()\n",
    "    train_y_c = train_y[:,c:c+1]\n",
    "    validate_y_c = validate_y[:,c:c+1]\n",
    "\n",
    "    print(\"training :\",alphabet_labels[c])\n",
    "    for epoch in range(iterations):\n",
    "        h = logistic_model(train_X,W,b)\n",
    "        W,b = gradient_descent_update(train_X,train_y_c,h,W,b,alpha)\n",
    "        if (epoch + 1) % step == 0:\n",
    "            train_h = logistic_model(train_X,W,b)\n",
    "            train_cost = logistic_regression_cost_function(h,train_y_c)\n",
    "            val_h = logistic_model(validate_X,W,b)\n",
    "            val_cost = logistic_regression_cost_function(val_h,validate_y_c)\n",
    "            print(\"epoch: {0},the train cost:{1},the val cost:{2}\".format(epoch + 1,train_cost,val_cost))\n",
    "    \n",
    "    train_h = logistic_model(train_X,W,b)\n",
    "    train_cost = logistic_regression_cost_function(h,train_y_c)\n",
    "    val_h = logistic_model(validate_X,W,b)\n",
    "    val_cost = logistic_regression_cost_function(val_h,validate_y_c)\n",
    "    cur_conf = binary_confusion_matrix(h, validate_y_c, threshold=threshold)  \n",
    "    cur_count = predict(h,validate_y_c,threshold=threshold)\n",
    "    print(\"finish train {0},the train cost:{1},the val cost:{2}\".format(alphabet_labels[c],train_cost,val_cost))\n",
    "    print(\"the validate {0},the accuracy:{1},the precision:{2},recall:{3},f1:{4}\".format(alphabet_labels[c],cur_count/validate_X.shape[0],cur_conf[0],cur_conf[1],cur_conf[2]))\n",
    "    all_W[c,:] = W.T\n",
    "    all_b[c,:] = b"
   ]
  },
  {
   "cell_type": "code",
   "execution_count": 336,
   "metadata": {},
   "outputs": [
    {
     "name": "stdout",
     "output_type": "stream",
     "text": [
      "Accuracy : 78.025000, the predict ture item: 15605, the predict sum：20000\n"
     ]
    }
   ],
   "source": [
    "predicts = np.mat(np.zeros((validate_X.shape[0],26),dtype=np.float32))\n",
    "for i in range(26):\n",
    "    predicts[:,i] = logistic_model(validate_X,all_W[i,:].T,all_b[i])\n",
    "\n",
    "count = 0\n",
    "for i in range(len(predicts)):\n",
    "    a = np.array(predicts[i])\n",
    "    max_index = np.argmax(predicts[i])\n",
    "    if validate_y[i,max_index] == 1:\n",
    "        count += 1\n",
    "print(\"Accuracy : %f, the predict ture item: %d, the predict sum：%d\" % (count/len(validate_X) * 100,count,len(validate_X)))"
   ]
  },
  {
   "cell_type": "code",
   "execution_count": 116,
   "metadata": {},
   "outputs": [
    {
     "data": {
      "image/png": "[encoded data removed]",
      "text/plain": [
       "<matplotlib.figure.Figure at 0x124977978>"
      ]
     },
     "metadata": {},
     "output_type": "display_data"
    },
    {
     "name": "stdout",
     "output_type": "stream",
     "text": [
      "truth: I, h: A\n"
     ]
    },
    {
     "data": {
      "image/png": "[encoded data removed]",
      "text/plain": [
       "<matplotlib.figure.Figure at 0x120cea978>"
      ]
     },
     "metadata": {},
     "output_type": "display_data"
    },
    {
     "name": "stdout",
     "output_type": "stream",
     "text": [
      "truth: J, h: A\n"
     ]
    },
    {
     "data": {
      "image/png": "[encoded data removed]",
      "text/plain": [
       "<matplotlib.figure.Figure at 0x120d549e8>"
      ]
     },
     "metadata": {},
     "output_type": "display_data"
    },
    {
     "name": "stdout",
     "output_type": "stream",
     "text": [
      "truth: L, h: A\n"
     ]
    },
    {
     "data": {
      "image/png": "[encoded data removed]",
      "text/plain": [
       "<matplotlib.figure.Figure at 0x120ecfb70>"
      ]
     },
     "metadata": {},
     "output_type": "display_data"
    },
    {
     "name": "stdout",
     "output_type": "stream",
     "text": [
      "truth: E, h: A\n"
     ]
    },
    {
     "data": {
      "image/png": "[encoded data removed]",
      "text/plain": [
       "<matplotlib.figure.Figure at 0x12470d080>"
      ]
     },
     "metadata": {},
     "output_type": "display_data"
    },
    {
     "name": "stdout",
     "output_type": "stream",
     "text": [
      "truth: D, h: A\n"
     ]
    },
    {
     "data": {
      "image/png": "[encoded data removed]",
      "text/plain": [
       "<matplotlib.figure.Figure at 0x120cd3518>"
      ]
     },
     "metadata": {},
     "output_type": "display_data"
    },
    {
     "name": "stdout",
     "output_type": "stream",
     "text": [
      "truth: U, h: A\n"
     ]
    },
    {
     "data": {
      "image/png": "[encoded data removed]",
      "text/plain": [
       "<matplotlib.figure.Figure at 0x1245538d0>"
      ]
     },
     "metadata": {},
     "output_type": "display_data"
    },
    {
     "name": "stdout",
     "output_type": "stream",
     "text": [
      "truth: X, h: A\n"
     ]
    },
    {
     "data": {
      "image/png": "[encoded data removed]",
      "text/plain": [
       "<matplotlib.figure.Figure at 0x12464bf60>"
      ]
     },
     "metadata": {},
     "output_type": "display_data"
    },
    {
     "name": "stdout",
     "output_type": "stream",
     "text": [
      "truth: K, h: A\n"
     ]
    },
    {
     "data": {
      "image/png": "[encoded data removed]",
      "text/plain": [
       "<matplotlib.figure.Figure at 0x120f58ef0>"
      ]
     },
     "metadata": {},
     "output_type": "display_data"
    },
    {
     "name": "stdout",
     "output_type": "stream",
     "text": [
      "truth: Z, h: A\n"
     ]
    },
    {
     "data": {
      "image/png": "[encoded data removed]",
      "text/plain": [
       "<matplotlib.figure.Figure at 0x120e58b70>"
      ]
     },
     "metadata": {},
     "output_type": "display_data"
    },
    {
     "name": "stdout",
     "output_type": "stream",
     "text": [
      "truth: G, h: A\n"
     ]
    }
   ],
   "source": [
    "h = np.mat(np.zeros((test_X.shape[0],26),dtype=np.float32))\n",
    "for i in range(26):\n",
    "    h[:,i] = logistic_model(test_X,all_W[i,:].T,all_b[i])\n",
    "\n",
    "showcase(test_X * 255,test_y,h)"
   ]
  },
  {
   "cell_type": "markdown",
   "metadata": {},
   "source": [
    "## neural network "
   ]
  },
  {
   "cell_type": "code",
   "execution_count": 114,
   "metadata": {},
   "outputs": [
    {
     "data": {
      "text/plain": [
       "(1, 900)"
      ]
     },
     "execution_count": 114,
     "metadata": {},
     "output_type": "execute_result"
    }
   ],
   "source": [
    "test_X[0].shape"
   ]
  },
  {
   "cell_type": "code",
   "execution_count": null,
   "metadata": {},
   "outputs": [],
   "source": []
  },
  {
   "cell_type": "code",
   "execution_count": null,
   "metadata": {},
   "outputs": [],
   "source": []
  }
 ],
 "metadata": {
  "kernelspec": {
   "display_name": "Python 3",
   "language": "python",
   "name": "python3"
  },
  "language_info": {
   "codemirror_mode": {
    "name": "ipython",
    "version": 3
   },
   "file_extension": ".py",
   "mimetype": "text/x-python",
   "name": "python",
   "nbconvert_exporter": "python",
   "pygments_lexer": "ipython3",
   "version": "3.6.1"
  }
 },
 "nbformat": 4,
 "nbformat_minor": 2
}
