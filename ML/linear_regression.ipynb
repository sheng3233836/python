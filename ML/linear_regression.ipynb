{
 "cells": [
  {
   "cell_type": "code",
   "execution_count": 1,
   "metadata": {
    "collapsed": true
   },
   "outputs": [],
   "source": [
    "import matplotlib.pyplot as plt\n",
    "import numpy as np"
   ]
  },
  {
   "cell_type": "code",
   "execution_count": 3,
   "metadata": {
    "collapsed": true
   },
   "outputs": [],
   "source": [
    "def plot_dot_image(x, y):\n",
    "    plt.figure(1)\n",
    "    plt.plot(x, y, 'x')\n",
    "    plt.xlim(5, 22.5)\n",
    "    plt.draw()\n",
    "\n",
    "\n",
    "def cost_function(X, y, theta):\n",
    "    h = X * theta\n",
    "    return np.mean(np.power(h - y, 2)) / 2\n",
    "\n",
    "\n",
    "def gradient_descent(X, y, theta, alpha, num_iters):\n",
    "    J_history = np.zeros((num_iters, 1), dtype=float)\n",
    "    m = np.alen(y)\n",
    "    for i in range(num_iters):\n",
    "        h = X * theta\n",
    "        theta = theta - alpha * (X.T * (h - y)) / m\n",
    "        J_history[i] = cost_function(X, y, theta)\n",
    "    return theta, J_history\n",
    "\n",
    "\n",
    "def normal_equation(X, y):\n",
    "    theta = (X.T * X).I * X.T * y\n",
    "    return theta\n",
    "\n",
    "\n",
    "def feature_normalize(X):\n",
    "    rows = X.shape[1]\n",
    "    for r in range(rows):\n",
    "        xr = X[:, r]\n",
    "        X[:, r] = (xr - np.mean(xr)) / np.std(xr)\n",
    "    return X"
   ]
  },
  {
   "cell_type": "code",
   "execution_count": 12,
   "metadata": {},
   "outputs": [
    {
     "name": "stdout",
     "output_type": "stream",
     "text": [
      "when theta =  [[0]\n",
      " [0]] \n",
      " cost : 32.0727338775\n",
      "theta =  [[-3.78806857]\n",
      " [ 1.18221277]]\n",
      "J_history =  [[ 6.73719046]\n",
      " [ 5.93159357]\n",
      " [ 5.90115471]\n",
      " ..., \n",
      " [ 4.47803526]\n",
      " [ 4.47803143]\n",
      " [ 4.47802761]]\n",
      "theta_ne =  [[-3.89578088]\n",
      " [ 1.19303364]]\n"
     ]
    },
    {
     "data": {
      "image/png": "[encoded data removed]",
      "text/plain": [
       "<matplotlib.figure.Figure at 0x118369f28>"
      ]
     },
     "metadata": {},
     "output_type": "display_data"
    }
   ],
   "source": [
    "data = np.loadtxt('ex1data1.txt', delimiter=\",\")\n",
    "X = data[:, 0]\n",
    "y = data[:, 1]\n",
    "plot_dot_image(X, y)\n",
    "m = np.alen(y)\n",
    "# 转化为matrix\n",
    "y = np.mat(y.reshape(m, 1))\n",
    "\n",
    "# 给X 添加一个常数列\n",
    "X = np.mat(np.c_[np.ones((m, 1), dtype=np.int), X])\n",
    "\n",
    "theta = np.mat(np.zeros((2, 1), dtype=np.int))\n",
    "iterations = 2000\n",
    "alpha = 0.01\n",
    "# compute cost\n",
    "J = cost_function(X, y, theta)\n",
    "print(\"when theta = \", theta, \"\\n cost :\", J)\n",
    "\n",
    "# gradient descent\n",
    "theta, J_history = gradient_descent(X, y, theta, alpha, iterations)\n",
    "print(\"theta = \", theta)\n",
    "print(\"J_history = \", J_history)\n",
    "\n",
    "# plot 预测的直线\n",
    "plt.plot(X[:, 1], X * theta, '-')\n",
    "\n",
    "# normal equation\n",
    "theta_ne = normal_equation(X, y)\n",
    "print(\"theta_ne = \", theta_ne)\n",
    "\n",
    "plt.plot(X[:, 1], X * theta_ne, '-r')\n",
    "plt.xlabel('population')\n",
    "plt.ylabel('profit')\n",
    "plt.show()"
   ]
  },
  {
   "cell_type": "code",
   "execution_count": null,
   "metadata": {
    "collapsed": true
   },
   "outputs": [],
   "source": [
    ""
   ]
  }
 ],
 "metadata": {
  "kernelspec": {
   "display_name": "Python 3",
   "language": "python",
   "name": "python3"
  },
  "language_info": {
   "codemirror_mode": {
    "name": "ipython",
    "version": 3.0
   },
   "file_extension": ".py",
   "mimetype": "text/x-python",
   "name": "python",
   "nbconvert_exporter": "python",
   "pygments_lexer": "ipython3",
   "version": "3.6.1"
  }
 },
 "nbformat": 4,
 "nbformat_minor": 0
}